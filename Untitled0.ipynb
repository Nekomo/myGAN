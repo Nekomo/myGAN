{
  "nbformat": 4,
  "nbformat_minor": 0,
  "metadata": {
    "colab": {
      "name": "Untitled0.ipynb",
      "provenance": [],
      "collapsed_sections": [],
      "authorship_tag": "ABX9TyMeMPwpagglqncQE7iTa7YC",
      "include_colab_link": true
    },
    "kernelspec": {
      "name": "python3",
      "display_name": "Python 3"
    },
    "accelerator": "GPU"
  },
  "cells": [
    {
      "cell_type": "markdown",
      "metadata": {
        "id": "view-in-github",
        "colab_type": "text"
      },
      "source": [
        "<a href=\"https://colab.research.google.com/github/Nekomo/myGAN/blob/master/Untitled0.ipynb\" target=\"_parent\"><img src=\"https://colab.research.google.com/assets/colab-badge.svg\" alt=\"Open In Colab\"/></a>"
      ]
    },
    {
      "cell_type": "code",
      "metadata": {
        "id": "cCS97hD0V_KK",
        "colab_type": "code",
        "outputId": "d1cf5193-e2ba-4fe9-bb36-da6dd6c71383",
        "colab": {
          "base_uri": "https://localhost:8080/",
          "height": 34
        }
      },
      "source": [
        "\n",
        "#!pwd\n",
        "#!ls ./data\n",
        "#% cd ../\n",
        "%cd /\n",
        "#%cd myGAN\n",
        "#!ls content/drive/"
      ],
      "execution_count": 0,
      "outputs": [
        {
          "output_type": "stream",
          "text": [
            "/\n"
          ],
          "name": "stdout"
        }
      ]
    },
    {
      "cell_type": "code",
      "metadata": {
        "id": "AYsu94Oy7ixj",
        "colab_type": "code",
        "colab": {}
      },
      "source": [
        "from google.colab import drive\n",
        "drive.mount('content/drive')"
      ],
      "execution_count": 0,
      "outputs": []
    },
    {
      "cell_type": "code",
      "metadata": {
        "id": "Vu_SUfGZ9Meu",
        "colab_type": "code",
        "colab": {}
      },
      "source": [
        "%cd /content/\n",
        "!git clone https://github.com/Nekomo/myGAN.git\n",
        "%cd myGAN/faceGAN/\n",
        "!ls"
      ],
      "execution_count": 0,
      "outputs": []
    },
    {
      "cell_type": "code",
      "metadata": {
        "id": "5NRA7VyfCjhp",
        "colab_type": "code",
        "colab": {}
      },
      "source": [
        "!git pull"
      ],
      "execution_count": 0,
      "outputs": []
    },
    {
      "cell_type": "code",
      "metadata": {
        "id": "Bx3JnahG73sV",
        "colab_type": "code",
        "colab": {}
      },
      "source": [
        "!mkdir data\n",
        "%cd data\n",
        "\n",
        "!cp -i ../../../drive/'My Drive'/gen_results/faceGAN/G* ./\n",
        "!cp -i ../../../drive/'My Drive'/gen_results/faceGAN/D* ./\n",
        "\n",
        "!mkdir celebA \n",
        "\n",
        "%cd celebA\n",
        "\n",
        "!cp ../../../../drive/'My Drive'/img_align_celeba.zip ./\n",
        "!unzip img_align_celeba.zip \n",
        "%cd ../../\n",
        "!ls"
      ],
      "execution_count": 0,
      "outputs": []
    },
    {
      "cell_type": "code",
      "metadata": {
        "id": "6oY5bzetGXRn",
        "colab_type": "code",
        "outputId": "2e9ccb08-d8d9-41de-9bc9-42555562277d",
        "colab": {
          "base_uri": "https://localhost:8080/",
          "height": 1000
        }
      },
      "source": [
        "!python main.py"
      ],
      "execution_count": 0,
      "outputs": [
        {
          "output_type": "stream",
          "text": [
            "cuda available!\n",
            "Trained Generator exists. epoch=91\n",
            "Trained Discriminator exists. epoch=91\n",
            "Generator(\n",
            "  (fc): Sequential(\n",
            "    (0): Linear(in_features=62, out_features=1024, bias=True)\n",
            "    (1): BatchNorm1d(1024, eps=1e-05, momentum=0.1, affine=True, track_running_stats=True)\n",
            "    (2): ReLU()\n",
            "    (3): Linear(in_features=1024, out_features=32768, bias=True)\n",
            "    (4): BatchNorm1d(32768, eps=1e-05, momentum=0.1, affine=True, track_running_stats=True)\n",
            "    (5): ReLU()\n",
            "  )\n",
            "  (deconv): Sequential(\n",
            "    (0): ConvTranspose2d(128, 64, kernel_size=(4, 4), stride=(2, 2), padding=(1, 1))\n",
            "    (1): BatchNorm2d(64, eps=1e-05, momentum=0.1, affine=True, track_running_stats=True)\n",
            "    (2): ReLU()\n",
            "    (3): ConvTranspose2d(64, 3, kernel_size=(4, 4), stride=(2, 2), padding=(1, 1))\n",
            "    (4): Sigmoid()\n",
            "  )\n",
            ")\n",
            "Discriminator(\n",
            "  (conv): Sequential(\n",
            "    (0): Conv2d(3, 64, kernel_size=(4, 4), stride=(2, 2), padding=(1, 1))\n",
            "    (1): LeakyReLU(negative_slope=0.2)\n",
            "    (2): Conv2d(64, 128, kernel_size=(4, 4), stride=(2, 2), padding=(1, 1))\n",
            "    (3): BatchNorm2d(128, eps=1e-05, momentum=0.1, affine=True, track_running_stats=True)\n",
            "    (4): LeakyReLU(negative_slope=0.2)\n",
            "  )\n",
            "  (fc): Sequential(\n",
            "    (0): Linear(in_features=32768, out_features=1024, bias=True)\n",
            "    (1): BatchNorm1d(1024, eps=1e-05, momentum=0.1, affine=True, track_running_stats=True)\n",
            "    (2): LeakyReLU(negative_slope=0.2)\n",
            "    (3): Linear(in_features=1024, out_features=1, bias=True)\n",
            "    (4): Sigmoid()\n",
            "  )\n",
            ")\n",
            "epoch 92 : 2/198 trained(1%)\n",
            "epoch 92 : 4/198 trained(2%)\n",
            "epoch 92 : 6/198 trained(3%)\n",
            "epoch 92 : 8/198 trained(4%)\n",
            "epoch 92 : 10/198 trained(5%)\n",
            "epoch 92 : 12/198 trained(6%)\n",
            "epoch 92 : 14/198 trained(7%)\n",
            "epoch 92 : 16/198 trained(8%)\n",
            "epoch 92 : 18/198 trained(9%)\n",
            "epoch 92 : 20/198 trained(10%)\n",
            "epoch 92 : 22/198 trained(11%)\n",
            "epoch 92 : 24/198 trained(12%)\n",
            "epoch 92 : 26/198 trained(13%)\n",
            "epoch 92 : 28/198 trained(14%)\n",
            "epoch 92 : 30/198 trained(15%)\n",
            "epoch 92 : 32/198 trained(16%)\n",
            "epoch 92 : 34/198 trained(17%)\n",
            "epoch 92 : 36/198 trained(18%)\n",
            "epoch 92 : 38/198 trained(19%)\n",
            "epoch 92 : 40/198 trained(20%)\n",
            "epoch 92 : 42/198 trained(21%)\n",
            "epoch 92 : 44/198 trained(22%)\n",
            "epoch 92 : 46/198 trained(23%)\n",
            "epoch 92 : 48/198 trained(24%)\n",
            "epoch 92 : 50/198 trained(25%)\n",
            "epoch 92 : 52/198 trained(26%)\n",
            "epoch 92 : 54/198 trained(27%)\n",
            "epoch 92 : 56/198 trained(28%)\n",
            "epoch 92 : 58/198 trained(29%)\n",
            "epoch 92 : 60/198 trained(30%)\n",
            "epoch 92 : 62/198 trained(31%)\n",
            "epoch 92 : 64/198 trained(32%)\n",
            "epoch 92 : 66/198 trained(33%)\n",
            "epoch 92 : 68/198 trained(34%)\n",
            "epoch 92 : 70/198 trained(35%)\n",
            "epoch 92 : 72/198 trained(36%)\n",
            "epoch 92 : 74/198 trained(37%)\n",
            "epoch 92 : 76/198 trained(38%)\n",
            "epoch 92 : 78/198 trained(39%)\n",
            "epoch 92 : 80/198 trained(40%)\n",
            "epoch 92 : 82/198 trained(41%)\n",
            "epoch 92 : 84/198 trained(42%)\n",
            "epoch 92 : 86/198 trained(43%)\n",
            "epoch 92 : 88/198 trained(44%)\n",
            "epoch 92 : 90/198 trained(45%)\n",
            "epoch 92 : 92/198 trained(46%)\n",
            "epoch 92 : 94/198 trained(47%)\n",
            "epoch 92 : 96/198 trained(48%)\n",
            "epoch 92 : 98/198 trained(49%)\n",
            "epoch 92 : 100/198 trained(50%)\n",
            "epoch 92 : 101/198 trained(51%)\n",
            "epoch 92 : 103/198 trained(52%)\n",
            "epoch 92 : 105/198 trained(53%)\n",
            "epoch 92 : 107/198 trained(54%)\n",
            "epoch 92 : 109/198 trained(55%)\n",
            "epoch 92 : 111/198 trained(56%)\n",
            "epoch 92 : 113/198 trained(57%)\n",
            "epoch 92 : 115/198 trained(58%)\n",
            "epoch 92 : 117/198 trained(59%)\n",
            "epoch 92 : 119/198 trained(60%)\n",
            "epoch 92 : 121/198 trained(61%)\n",
            "epoch 92 : 123/198 trained(62%)\n",
            "epoch 92 : 125/198 trained(63%)\n",
            "epoch 92 : 127/198 trained(64%)\n",
            "epoch 92 : 129/198 trained(65%)\n",
            "epoch 92 : 131/198 trained(66%)\n",
            "epoch 92 : 133/198 trained(67%)\n",
            "epoch 92 : 135/198 trained(68%)\n",
            "epoch 92 : 137/198 trained(69%)\n",
            "epoch 92 : 139/198 trained(70%)\n",
            "epoch 92 : 141/198 trained(71%)\n",
            "epoch 92 : 143/198 trained(72%)\n",
            "epoch 92 : 145/198 trained(73%)\n",
            "epoch 92 : 147/198 trained(74%)\n",
            "epoch 92 : 149/198 trained(75%)\n",
            "epoch 92 : 151/198 trained(76%)\n",
            "epoch 92 : 153/198 trained(77%)\n",
            "epoch 92 : 155/198 trained(78%)\n",
            "epoch 92 : 157/198 trained(79%)\n",
            "epoch 92 : 159/198 trained(80%)\n",
            "epoch 92 : 161/198 trained(81%)\n",
            "epoch 92 : 163/198 trained(82%)\n",
            "epoch 92 : 165/198 trained(83%)\n",
            "epoch 92 : 167/198 trained(84%)\n",
            "epoch 92 : 169/198 trained(85%)\n",
            "epoch 92 : 171/198 trained(86%)\n",
            "epoch 92 : 173/198 trained(87%)\n",
            "epoch 92 : 175/198 trained(88%)\n",
            "epoch 92 : 177/198 trained(89%)\n",
            "epoch 92 : 179/198 trained(90%)\n",
            "epoch 92 : 181/198 trained(91%)\n",
            "epoch 92 : 183/198 trained(92%)\n",
            "epoch 92 : 185/198 trained(93%)\n",
            "epoch 92 : 187/198 trained(94%)\n",
            "epoch 92 : 189/198 trained(95%)\n",
            "epoch 92 : 191/198 trained(96%)\n",
            "epoch 92 : 193/198 trained(97%)\n",
            "epoch 92 : 195/198 trained(98%)\n",
            "epoch 92 : 197/198 trained(99%)\n",
            "epoch 93, D_loss:0.5847 G_loss: 2.7559\n",
            "epoch 93 : 2/198 trained(1%)\n",
            "epoch 93 : 4/198 trained(2%)\n",
            "epoch 93 : 6/198 trained(3%)\n",
            "epoch 93 : 8/198 trained(4%)\n",
            "epoch 93 : 10/198 trained(5%)\n",
            "epoch 93 : 12/198 trained(6%)\n",
            "epoch 93 : 14/198 trained(7%)\n",
            "epoch 93 : 16/198 trained(8%)\n",
            "epoch 93 : 18/198 trained(9%)\n",
            "epoch 93 : 20/198 trained(10%)\n",
            "epoch 93 : 22/198 trained(11%)\n",
            "epoch 93 : 24/198 trained(12%)\n",
            "epoch 93 : 26/198 trained(13%)\n",
            "epoch 93 : 28/198 trained(14%)\n",
            "epoch 93 : 30/198 trained(15%)\n",
            "epoch 93 : 32/198 trained(16%)\n",
            "epoch 93 : 34/198 trained(17%)\n",
            "epoch 93 : 36/198 trained(18%)\n",
            "epoch 93 : 38/198 trained(19%)\n",
            "epoch 93 : 40/198 trained(20%)\n",
            "epoch 93 : 42/198 trained(21%)\n",
            "epoch 93 : 44/198 trained(22%)\n",
            "epoch 93 : 46/198 trained(23%)\n",
            "epoch 93 : 48/198 trained(24%)\n",
            "epoch 93 : 50/198 trained(25%)\n",
            "epoch 93 : 52/198 trained(26%)\n",
            "epoch 93 : 54/198 trained(27%)\n",
            "epoch 93 : 56/198 trained(28%)\n",
            "epoch 93 : 58/198 trained(29%)\n",
            "epoch 93 : 60/198 trained(30%)\n",
            "epoch 93 : 62/198 trained(31%)\n",
            "epoch 93 : 64/198 trained(32%)\n",
            "epoch 93 : 66/198 trained(33%)\n",
            "epoch 93 : 68/198 trained(34%)\n",
            "epoch 93 : 70/198 trained(35%)\n",
            "epoch 93 : 72/198 trained(36%)\n",
            "epoch 93 : 74/198 trained(37%)\n",
            "epoch 93 : 76/198 trained(38%)\n",
            "epoch 93 : 78/198 trained(39%)\n",
            "epoch 93 : 80/198 trained(40%)\n",
            "epoch 93 : 82/198 trained(41%)\n",
            "epoch 93 : 84/198 trained(42%)\n",
            "epoch 93 : 86/198 trained(43%)\n",
            "epoch 93 : 88/198 trained(44%)\n",
            "epoch 93 : 90/198 trained(45%)\n",
            "epoch 93 : 92/198 trained(46%)\n",
            "epoch 93 : 94/198 trained(47%)\n",
            "epoch 93 : 96/198 trained(48%)\n",
            "epoch 93 : 98/198 trained(49%)\n",
            "epoch 93 : 100/198 trained(50%)\n",
            "epoch 93 : 101/198 trained(51%)\n",
            "epoch 93 : 103/198 trained(52%)\n",
            "epoch 93 : 105/198 trained(53%)\n",
            "epoch 93 : 107/198 trained(54%)\n",
            "epoch 93 : 109/198 trained(55%)\n",
            "epoch 93 : 111/198 trained(56%)\n",
            "epoch 93 : 113/198 trained(57%)\n",
            "epoch 93 : 115/198 trained(58%)\n",
            "epoch 93 : 117/198 trained(59%)\n",
            "epoch 93 : 119/198 trained(60%)\n",
            "epoch 93 : 121/198 trained(61%)\n",
            "epoch 93 : 123/198 trained(62%)\n",
            "epoch 93 : 125/198 trained(63%)\n",
            "epoch 93 : 127/198 trained(64%)\n",
            "epoch 93 : 129/198 trained(65%)\n",
            "epoch 93 : 131/198 trained(66%)\n",
            "epoch 93 : 133/198 trained(67%)\n",
            "epoch 93 : 135/198 trained(68%)\n",
            "epoch 93 : 137/198 trained(69%)\n",
            "epoch 93 : 139/198 trained(70%)\n",
            "epoch 93 : 141/198 trained(71%)\n",
            "epoch 93 : 143/198 trained(72%)\n",
            "epoch 93 : 145/198 trained(73%)\n",
            "epoch 93 : 147/198 trained(74%)\n",
            "epoch 93 : 149/198 trained(75%)\n",
            "epoch 93 : 151/198 trained(76%)\n",
            "epoch 93 : 153/198 trained(77%)\n",
            "epoch 93 : 155/198 trained(78%)\n",
            "epoch 93 : 157/198 trained(79%)\n",
            "epoch 93 : 159/198 trained(80%)\n",
            "epoch 93 : 161/198 trained(81%)\n",
            "epoch 93 : 163/198 trained(82%)\n",
            "epoch 93 : 165/198 trained(83%)\n",
            "epoch 93 : 167/198 trained(84%)\n",
            "epoch 93 : 169/198 trained(85%)\n",
            "epoch 93 : 171/198 trained(86%)\n",
            "epoch 93 : 173/198 trained(87%)\n",
            "epoch 93 : 175/198 trained(88%)\n",
            "epoch 93 : 177/198 trained(89%)\n",
            "epoch 93 : 179/198 trained(90%)\n",
            "epoch 93 : 181/198 trained(91%)\n",
            "epoch 93 : 183/198 trained(92%)\n",
            "epoch 93 : 185/198 trained(93%)\n",
            "epoch 93 : 187/198 trained(94%)\n",
            "epoch 93 : 189/198 trained(95%)\n",
            "epoch 93 : 191/198 trained(96%)\n",
            "epoch 93 : 193/198 trained(97%)\n",
            "epoch 93 : 195/198 trained(98%)\n",
            "epoch 93 : 197/198 trained(99%)\n",
            "epoch 94, D_loss:0.4589 G_loss: 2.5472\n"
          ],
          "name": "stdout"
        }
      ]
    },
    {
      "cell_type": "code",
      "metadata": {
        "id": "nogC_RR3xq5e",
        "colab_type": "code",
        "colab": {}
      },
      "source": [
        "!pwd\n",
        "!ls ../../drive/My\\ Drive/"
      ],
      "execution_count": 0,
      "outputs": []
    },
    {
      "cell_type": "code",
      "metadata": {
        "id": "3WEZYoOVijhc",
        "colab_type": "code",
        "colab": {}
      },
      "source": [
        "import shutil\n",
        "import os\n",
        "log_dir = './logs'\n",
        "shutil.copy(os.path.join(log_dir, 'epoch_%03d.png' % (1)), \"../../drive/My Drive/gen_results/faceGAN/\")"
      ],
      "execution_count": 0,
      "outputs": []
    },
    {
      "cell_type": "code",
      "metadata": {
        "id": "ERU7kGzTGOFq",
        "colab_type": "code",
        "colab": {}
      },
      "source": [
        "!ls logs\n",
        "#%cd logs\n",
        "!ls\n",
        "#!cp *.png ../../../drive/'My Drive'/gen_results/faceGAN/\n",
        "!cp *.pth ../../../drive/'My Drive'/gen_results/faceGAN/\n",
        "!cp history.pkl ../../../drive/'My Drive'/gen_results/faceGAN/\n"
      ],
      "execution_count": 0,
      "outputs": []
    }
  ]
}